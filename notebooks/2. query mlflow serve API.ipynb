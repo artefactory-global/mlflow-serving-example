{
 "cells": [
  {
   "cell_type": "code",
   "execution_count": 1,
   "id": "872f7e6f",
   "metadata": {},
   "outputs": [],
   "source": [
    "import requests\n",
    "import pandas as pd"
   ]
  },
  {
   "cell_type": "code",
   "execution_count": 2,
   "id": "7a5569e7",
   "metadata": {},
   "outputs": [],
   "source": [
    "data_path = 'https://raw.githubusercontent.com/amesar/mlflow-examples/master/data/train/wine-quality-white.csv'"
   ]
  },
  {
   "cell_type": "code",
   "execution_count": 3,
   "id": "26ada215",
   "metadata": {},
   "outputs": [],
   "source": [
    "test_data = pd.read_csv(data_path)\n",
    "test_data = test_data.drop(columns= 'quality').head(10)"
   ]
  },
  {
   "cell_type": "code",
   "execution_count": 4,
   "id": "61dfe2de",
   "metadata": {},
   "outputs": [
    {
     "name": "stdout",
     "output_type": "stream",
     "text": [
      "CPU times: user 3.45 ms, sys: 1.85 ms, total: 5.3 ms\n",
      "Wall time: 16.5 ms\n"
     ]
    }
   ],
   "source": [
    "%%time \n",
    "host = 'mlflow_serving_loadbalancerip'\n",
    "port = '8082'\n",
    "\n",
    "url = f'http://{host}:{port}/invocations'\n",
    "\n",
    "headers = {\n",
    "    'Content-Type': 'application/json',\n",
    "}\n",
    "http_data = test_data.to_json(orient='split')\n",
    "r = requests.post(url=url, headers=headers, data=http_data)\n",
    "\n",
    "result = eval(r.text)"
   ]
  },
  {
   "cell_type": "code",
   "execution_count": 5,
   "id": "bb498ac4",
   "metadata": {},
   "outputs": [
    {
     "data": {
      "text/plain": [
       "[6.000453472137451,\n",
       " 5.994976997375488,\n",
       " 5.629603862762451,\n",
       " 5.979909420013428,\n",
       " 5.979909420013428,\n",
       " 5.629603862762451,\n",
       " 5.992960453033447,\n",
       " 6.000453472137451,\n",
       " 5.994976997375488,\n",
       " 5.990837574005127]"
      ]
     },
     "execution_count": 5,
     "metadata": {},
     "output_type": "execute_result"
    }
   ],
   "source": [
    "result"
   ]
  },
  {
   "cell_type": "code",
   "execution_count": null,
   "id": "6f6cc723",
   "metadata": {},
   "outputs": [],
   "source": []
  }
 ],
 "metadata": {
  "kernelspec": {
   "display_name": "Python 3 (ipykernel)",
   "language": "python",
   "name": "python3"
  },
  "language_info": {
   "codemirror_mode": {
    "name": "ipython",
    "version": 3
   },
   "file_extension": ".py",
   "mimetype": "text/x-python",
   "name": "python",
   "nbconvert_exporter": "python",
   "pygments_lexer": "ipython3",
   "version": "3.9.5"
  }
 },
 "nbformat": 4,
 "nbformat_minor": 5
}
